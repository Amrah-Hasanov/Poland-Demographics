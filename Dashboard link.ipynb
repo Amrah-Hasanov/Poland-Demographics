{
 "cells": [
  {
   "cell_type": "markdown",
   "id": "ab5cfab8",
   "metadata": {
    "papermill": {
     "duration": 0.00156,
     "end_time": "2023-10-15T21:44:06.606036",
     "exception": false,
     "start_time": "2023-10-15T21:44:06.604476",
     "status": "completed"
    },
    "tags": []
   },
   "source": [
    "Tableau dashboards related to this dataset: https://public.tableau.com/app/profile/amrah.hasanov7190/viz/PolandPopulationAnalysisDemographicsDensityNaturalIncreaseNetMigrationandInfantMortality_/Story1"
   ]
  }
 ],
 "metadata": {
  "kernelspec": {
   "display_name": "Python 3",
   "language": "python",
   "name": "python3"
  },
  "language_info": {
   "codemirror_mode": {
    "name": "ipython",
    "version": 3
   },
   "file_extension": ".py",
   "mimetype": "text/x-python",
   "name": "python",
   "nbconvert_exporter": "python",
   "pygments_lexer": "ipython3",
   "version": "3.10.12"
  },
  "papermill": {
   "default_parameters": {},
   "duration": 3.278733,
   "end_time": "2023-10-15T21:44:06.927294",
   "environment_variables": {},
   "exception": null,
   "input_path": "__notebook__.ipynb",
   "output_path": "__notebook__.ipynb",
   "parameters": {},
   "start_time": "2023-10-15T21:44:03.648561",
   "version": "2.4.0"
  }
 },
 "nbformat": 4,
 "nbformat_minor": 5
}
